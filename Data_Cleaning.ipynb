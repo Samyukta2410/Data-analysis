{
 "cells": [
  {
   "cell_type": "markdown",
   "metadata": {},
   "source": [
    "# <font color = 'brown'> DATA CLEANING </font>"
   ]
  },
  {
   "cell_type": "markdown",
   "metadata": {},
   "source": [
    "### <u>Data cleaning (or also known as Data Pre-processing)</u> :<br/> <br/>Preparation of data directly after accessing it from a data source."
   ]
  },
  {
   "cell_type": "code",
   "execution_count": 1,
   "metadata": {},
   "outputs": [],
   "source": [
    "import pandas as pd"
   ]
  },
  {
   "cell_type": "markdown",
   "metadata": {},
   "source": [
    "### <font color = 'drak green'> Importing Data </font>\n",
    "Data has been randomly choosen from **data.gov**"
   ]
  },
  {
   "cell_type": "markdown",
   "metadata": {},
   "source": [
    "**METHOD 1**"
   ]
  },
  {
   "cell_type": "code",
   "execution_count": 3,
   "metadata": {},
   "outputs": [
    {
     "data": {
      "text/html": [
       "<div>\n",
       "<style scoped>\n",
       "    .dataframe tbody tr th:only-of-type {\n",
       "        vertical-align: middle;\n",
       "    }\n",
       "\n",
       "    .dataframe tbody tr th {\n",
       "        vertical-align: top;\n",
       "    }\n",
       "\n",
       "    .dataframe thead th {\n",
       "        text-align: right;\n",
       "    }\n",
       "</style>\n",
       "<table border=\"1\" class=\"dataframe\">\n",
       "  <thead>\n",
       "    <tr style=\"text-align: right;\">\n",
       "      <th></th>\n",
       "      <th>Property Number</th>\n",
       "      <th>Date</th>\n",
       "      <th>Brand</th>\n",
       "      <th>Model</th>\n",
       "      <th>Color</th>\n",
       "      <th>Stolen</th>\n",
       "      <th>Stolen From</th>\n",
       "      <th>Status</th>\n",
       "      <th>Incident number</th>\n",
       "      <th>Agency code</th>\n",
       "    </tr>\n",
       "  </thead>\n",
       "  <tbody>\n",
       "    <tr>\n",
       "      <td>0</td>\n",
       "      <td>P24567</td>\n",
       "      <td>01/12/2017</td>\n",
       "      <td>NaN</td>\n",
       "      <td>BOLT ACTION SH</td>\n",
       "      <td>NaN</td>\n",
       "      <td>Stolen Locally</td>\n",
       "      <td>Residence</td>\n",
       "      <td>Not Recovered</td>\n",
       "      <td>B17-01302</td>\n",
       "      <td>BPD</td>\n",
       "    </tr>\n",
       "    <tr>\n",
       "      <td>1</td>\n",
       "      <td>P24806</td>\n",
       "      <td>01/22/2017</td>\n",
       "      <td>TAURUS</td>\n",
       "      <td>NaN</td>\n",
       "      <td>BLACK</td>\n",
       "      <td>Stolen Locally</td>\n",
       "      <td>Vehicle</td>\n",
       "      <td>Recovered Other</td>\n",
       "      <td>B17-02589</td>\n",
       "      <td>BPD</td>\n",
       "    </tr>\n",
       "    <tr>\n",
       "      <td>2</td>\n",
       "      <td>P25118</td>\n",
       "      <td>01/31/2017</td>\n",
       "      <td>NaN</td>\n",
       "      <td>SHOTGUN</td>\n",
       "      <td>NaN</td>\n",
       "      <td>Stolen Locally</td>\n",
       "      <td>Residence</td>\n",
       "      <td>Not Recovered</td>\n",
       "      <td>B17-02584</td>\n",
       "      <td>BPD</td>\n",
       "    </tr>\n",
       "  </tbody>\n",
       "</table>\n",
       "</div>"
      ],
      "text/plain": [
       "  Property Number        Date   Brand           Model Color           Stolen  \\\n",
       "0          P24567  01/12/2017     NaN  BOLT ACTION SH    NaN  Stolen Locally   \n",
       "1          P24806  01/22/2017  TAURUS             NaN  BLACK  Stolen Locally   \n",
       "2          P25118  01/31/2017     NaN         SHOTGUN    NaN  Stolen Locally   \n",
       "\n",
       "  Stolen From            Status Incident number Agency code  \n",
       "0   Residence     Not Recovered       B17-01302         BPD  \n",
       "1     Vehicle  Recovered Other        B17-02589         BPD  \n",
       "2   Residence     Not Recovered       B17-02584         BPD  "
      ]
     },
     "execution_count": 3,
     "metadata": {},
     "output_type": "execute_result"
    }
   ],
   "source": [
    "data = pd.read_csv(\"C:/Users/HP PAV 15 CC130TX/OneDrive/Desktop/stolengun/2017-first-quarter-stolen-guns.csv\")\n",
    "data.head(3)"
   ]
  },
  {
   "cell_type": "markdown",
   "metadata": {},
   "source": [
    "**METHOD 2**\n",
    "> Mostly useful when all files are at same path"
   ]
  },
  {
   "cell_type": "code",
   "execution_count": 78,
   "metadata": {},
   "outputs": [
    {
     "data": {
      "text/html": [
       "<div>\n",
       "<style scoped>\n",
       "    .dataframe tbody tr th:only-of-type {\n",
       "        vertical-align: middle;\n",
       "    }\n",
       "\n",
       "    .dataframe tbody tr th {\n",
       "        vertical-align: top;\n",
       "    }\n",
       "\n",
       "    .dataframe thead th {\n",
       "        text-align: right;\n",
       "    }\n",
       "</style>\n",
       "<table border=\"1\" class=\"dataframe\">\n",
       "  <thead>\n",
       "    <tr style=\"text-align: right;\">\n",
       "      <th></th>\n",
       "      <th>Property Number</th>\n",
       "      <th>Date</th>\n",
       "      <th>Brand</th>\n",
       "      <th>Model</th>\n",
       "      <th>Color</th>\n",
       "      <th>Stolen</th>\n",
       "      <th>Stolen From</th>\n",
       "      <th>Status</th>\n",
       "      <th>Incident number</th>\n",
       "      <th>Agency code</th>\n",
       "    </tr>\n",
       "  </thead>\n",
       "  <tbody>\n",
       "    <tr>\n",
       "      <td>0</td>\n",
       "      <td>P24567</td>\n",
       "      <td>01/12/2017</td>\n",
       "      <td>NaN</td>\n",
       "      <td>BOLT ACTION SH</td>\n",
       "      <td>NaN</td>\n",
       "      <td>Stolen Locally</td>\n",
       "      <td>Residence</td>\n",
       "      <td>Not Recovered</td>\n",
       "      <td>B17-01302</td>\n",
       "      <td>BPD</td>\n",
       "    </tr>\n",
       "    <tr>\n",
       "      <td>1</td>\n",
       "      <td>P24806</td>\n",
       "      <td>01/22/2017</td>\n",
       "      <td>TAURUS</td>\n",
       "      <td>NaN</td>\n",
       "      <td>BLACK</td>\n",
       "      <td>Stolen Locally</td>\n",
       "      <td>Vehicle</td>\n",
       "      <td>Recovered Other</td>\n",
       "      <td>B17-02589</td>\n",
       "      <td>BPD</td>\n",
       "    </tr>\n",
       "    <tr>\n",
       "      <td>2</td>\n",
       "      <td>P25118</td>\n",
       "      <td>01/31/2017</td>\n",
       "      <td>NaN</td>\n",
       "      <td>SHOTGUN</td>\n",
       "      <td>NaN</td>\n",
       "      <td>Stolen Locally</td>\n",
       "      <td>Residence</td>\n",
       "      <td>Not Recovered</td>\n",
       "      <td>B17-02584</td>\n",
       "      <td>BPD</td>\n",
       "    </tr>\n",
       "  </tbody>\n",
       "</table>\n",
       "</div>"
      ],
      "text/plain": [
       "  Property Number        Date   Brand           Model Color           Stolen  \\\n",
       "0          P24567  01/12/2017     NaN  BOLT ACTION SH    NaN  Stolen Locally   \n",
       "1          P24806  01/22/2017  TAURUS             NaN  BLACK  Stolen Locally   \n",
       "2          P25118  01/31/2017     NaN         SHOTGUN    NaN  Stolen Locally   \n",
       "\n",
       "  Stolen From            Status Incident number Agency code  \n",
       "0   Residence     Not Recovered       B17-01302         BPD  \n",
       "1     Vehicle  Recovered Other        B17-02589         BPD  \n",
       "2   Residence     Not Recovered       B17-02584         BPD  "
      ]
     },
     "execution_count": 78,
     "metadata": {},
     "output_type": "execute_result"
    }
   ],
   "source": [
    "path = \"C:/Users/HP PAV 15 CC130TX/OneDrive/Desktop/stolengun\"\n",
    "filename = '2017-first-quarter-stolen-guns.csv'\n",
    "fullpath = path + '/' + filename\n",
    "data2 = pd.read_csv(fullpath)\n",
    "data2.head(3)"
   ]
  },
  {
   "cell_type": "markdown",
   "metadata": {},
   "source": [
    "**METHOD 3**"
   ]
  },
  {
   "cell_type": "code",
   "execution_count": 69,
   "metadata": {},
   "outputs": [
    {
     "data": {
      "text/html": [
       "<div>\n",
       "<style scoped>\n",
       "    .dataframe tbody tr th:only-of-type {\n",
       "        vertical-align: middle;\n",
       "    }\n",
       "\n",
       "    .dataframe tbody tr th {\n",
       "        vertical-align: top;\n",
       "    }\n",
       "\n",
       "    .dataframe thead th {\n",
       "        text-align: right;\n",
       "    }\n",
       "</style>\n",
       "<table border=\"1\" class=\"dataframe\">\n",
       "  <thead>\n",
       "    <tr style=\"text-align: right;\">\n",
       "      <th></th>\n",
       "      <th>Property Number</th>\n",
       "      <th>Date</th>\n",
       "      <th>Brand</th>\n",
       "      <th>Model</th>\n",
       "      <th>Color</th>\n",
       "      <th>Stolen</th>\n",
       "      <th>Stolen From</th>\n",
       "      <th>Status</th>\n",
       "      <th>Incident number</th>\n",
       "      <th>Agency code</th>\n",
       "    </tr>\n",
       "  </thead>\n",
       "  <tbody>\n",
       "    <tr>\n",
       "      <td>0</td>\n",
       "      <td>P24567</td>\n",
       "      <td>01/12/2017</td>\n",
       "      <td>NaN</td>\n",
       "      <td>BOLT ACTION SH</td>\n",
       "      <td>NaN</td>\n",
       "      <td>Stolen Locally</td>\n",
       "      <td>Residence</td>\n",
       "      <td>Not Recovered</td>\n",
       "      <td>B17-01302</td>\n",
       "      <td>BPD</td>\n",
       "    </tr>\n",
       "    <tr>\n",
       "      <td>1</td>\n",
       "      <td>P24806</td>\n",
       "      <td>01/22/2017</td>\n",
       "      <td>TAURUS</td>\n",
       "      <td>NaN</td>\n",
       "      <td>BLACK</td>\n",
       "      <td>Stolen Locally</td>\n",
       "      <td>Vehicle</td>\n",
       "      <td>Recovered Other</td>\n",
       "      <td>B17-02589</td>\n",
       "      <td>BPD</td>\n",
       "    </tr>\n",
       "    <tr>\n",
       "      <td>2</td>\n",
       "      <td>P25118</td>\n",
       "      <td>01/31/2017</td>\n",
       "      <td>NaN</td>\n",
       "      <td>SHOTGUN</td>\n",
       "      <td>NaN</td>\n",
       "      <td>Stolen Locally</td>\n",
       "      <td>Residence</td>\n",
       "      <td>Not Recovered</td>\n",
       "      <td>B17-02584</td>\n",
       "      <td>BPD</td>\n",
       "    </tr>\n",
       "  </tbody>\n",
       "</table>\n",
       "</div>"
      ],
      "text/plain": [
       "  Property Number        Date   Brand           Model Color           Stolen  \\\n",
       "0          P24567  01/12/2017     NaN  BOLT ACTION SH    NaN  Stolen Locally   \n",
       "1          P24806  01/22/2017  TAURUS             NaN  BLACK  Stolen Locally   \n",
       "2          P25118  01/31/2017     NaN         SHOTGUN    NaN  Stolen Locally   \n",
       "\n",
       "  Stolen From            Status Incident number Agency code  \n",
       "0   Residence     Not Recovered       B17-01302         BPD  \n",
       "1     Vehicle  Recovered Other        B17-02589         BPD  \n",
       "2   Residence     Not Recovered       B17-02584         BPD  "
      ]
     },
     "execution_count": 69,
     "metadata": {},
     "output_type": "execute_result"
    }
   ],
   "source": [
    "import os\n",
    "#The OS module in python provides functions for interacting with the operating system. \n",
    "\n",
    "path_ = \"C:/Users/HP PAV 15 CC130TX/OneDrive/Desktop/stolengun\"\n",
    "filename_ = '2017-first-quarter-stolen-guns.csv'\n",
    "fullpath_ = os.path.join(path_,filename_)\n",
    "data3 = pd.read_csv(fullpath_)\n",
    "data3.head(3)"
   ]
  },
  {
   "cell_type": "markdown",
   "metadata": {},
   "source": [
    "### <font color='dark green'> Adding Column Names </font>"
   ]
  },
  {
   "cell_type": "markdown",
   "metadata": {},
   "source": [
    "> **This is our data which doesn't contain any Headers/Column names** "
   ]
  },
  {
   "cell_type": "code",
   "execution_count": 74,
   "metadata": {},
   "outputs": [
    {
     "data": {
      "text/html": [
       "<div>\n",
       "<style scoped>\n",
       "    .dataframe tbody tr th:only-of-type {\n",
       "        vertical-align: middle;\n",
       "    }\n",
       "\n",
       "    .dataframe tbody tr th {\n",
       "        vertical-align: top;\n",
       "    }\n",
       "\n",
       "    .dataframe thead th {\n",
       "        text-align: right;\n",
       "    }\n",
       "</style>\n",
       "<table border=\"1\" class=\"dataframe\">\n",
       "  <thead>\n",
       "    <tr style=\"text-align: right;\">\n",
       "      <th></th>\n",
       "      <th>0</th>\n",
       "      <th>1</th>\n",
       "      <th>2</th>\n",
       "      <th>3</th>\n",
       "      <th>4</th>\n",
       "      <th>5</th>\n",
       "      <th>6</th>\n",
       "      <th>7</th>\n",
       "      <th>8</th>\n",
       "      <th>9</th>\n",
       "    </tr>\n",
       "  </thead>\n",
       "  <tbody>\n",
       "    <tr>\n",
       "      <td>0</td>\n",
       "      <td>P24567</td>\n",
       "      <td>01/12/2017</td>\n",
       "      <td>NaN</td>\n",
       "      <td>BOLT ACTION SH</td>\n",
       "      <td>NaN</td>\n",
       "      <td>Stolen Locally</td>\n",
       "      <td>Residence</td>\n",
       "      <td>Not Recovered</td>\n",
       "      <td>B17-01302</td>\n",
       "      <td>BPD</td>\n",
       "    </tr>\n",
       "    <tr>\n",
       "      <td>1</td>\n",
       "      <td>P24806</td>\n",
       "      <td>01/22/2017</td>\n",
       "      <td>TAURUS</td>\n",
       "      <td>NaN</td>\n",
       "      <td>BLACK</td>\n",
       "      <td>Stolen Locally</td>\n",
       "      <td>Vehicle</td>\n",
       "      <td>Recovered Other</td>\n",
       "      <td>B17-02589</td>\n",
       "      <td>BPD</td>\n",
       "    </tr>\n",
       "    <tr>\n",
       "      <td>2</td>\n",
       "      <td>P25118</td>\n",
       "      <td>01/31/2017</td>\n",
       "      <td>NaN</td>\n",
       "      <td>SHOTGUN</td>\n",
       "      <td>NaN</td>\n",
       "      <td>Stolen Locally</td>\n",
       "      <td>Residence</td>\n",
       "      <td>Not Recovered</td>\n",
       "      <td>B17-02584</td>\n",
       "      <td>BPD</td>\n",
       "    </tr>\n",
       "  </tbody>\n",
       "</table>\n",
       "</div>"
      ],
      "text/plain": [
       "        0           1       2               3      4               5  \\\n",
       "0  P24567  01/12/2017     NaN  BOLT ACTION SH    NaN  Stolen Locally   \n",
       "1  P24806  01/22/2017  TAURUS             NaN  BLACK  Stolen Locally   \n",
       "2  P25118  01/31/2017     NaN         SHOTGUN    NaN  Stolen Locally   \n",
       "\n",
       "           6                 7          8    9  \n",
       "0  Residence     Not Recovered  B17-01302  BPD  \n",
       "1    Vehicle  Recovered Other   B17-02589  BPD  \n",
       "2  Residence     Not Recovered  B17-02584  BPD  "
      ]
     },
     "execution_count": 74,
     "metadata": {},
     "output_type": "execute_result"
    }
   ],
   "source": [
    "Hdata1 = pd.read_csv(\"C:/Users/HP PAV 15 CC130TX/OneDrive/Desktop/stolengun/2017-first-quarter-stolen-guns.csv\",\n",
    "                    header = None, skiprows = 1 )\n",
    "Hdata1.head(3)"
   ]
  },
  {
   "cell_type": "markdown",
   "metadata": {},
   "source": [
    "**METHOD 1**"
   ]
  },
  {
   "cell_type": "code",
   "execution_count": 72,
   "metadata": {},
   "outputs": [
    {
     "data": {
      "text/html": [
       "<div>\n",
       "<style scoped>\n",
       "    .dataframe tbody tr th:only-of-type {\n",
       "        vertical-align: middle;\n",
       "    }\n",
       "\n",
       "    .dataframe tbody tr th {\n",
       "        vertical-align: top;\n",
       "    }\n",
       "\n",
       "    .dataframe thead th {\n",
       "        text-align: right;\n",
       "    }\n",
       "</style>\n",
       "<table border=\"1\" class=\"dataframe\">\n",
       "  <thead>\n",
       "    <tr style=\"text-align: right;\">\n",
       "      <th></th>\n",
       "      <th>Prop_num</th>\n",
       "      <th>Date</th>\n",
       "      <th>Brand</th>\n",
       "      <th>Model</th>\n",
       "      <th>Color</th>\n",
       "      <th>Stolen</th>\n",
       "      <th>Stolen_from</th>\n",
       "      <th>Status</th>\n",
       "      <th>Incident</th>\n",
       "      <th>Agency_code</th>\n",
       "    </tr>\n",
       "  </thead>\n",
       "  <tbody>\n",
       "    <tr>\n",
       "      <td>0</td>\n",
       "      <td>P24567</td>\n",
       "      <td>01/12/2017</td>\n",
       "      <td>NaN</td>\n",
       "      <td>BOLT ACTION SH</td>\n",
       "      <td>NaN</td>\n",
       "      <td>Stolen Locally</td>\n",
       "      <td>Residence</td>\n",
       "      <td>Not Recovered</td>\n",
       "      <td>B17-01302</td>\n",
       "      <td>BPD</td>\n",
       "    </tr>\n",
       "    <tr>\n",
       "      <td>1</td>\n",
       "      <td>P24806</td>\n",
       "      <td>01/22/2017</td>\n",
       "      <td>TAURUS</td>\n",
       "      <td>NaN</td>\n",
       "      <td>BLACK</td>\n",
       "      <td>Stolen Locally</td>\n",
       "      <td>Vehicle</td>\n",
       "      <td>Recovered Other</td>\n",
       "      <td>B17-02589</td>\n",
       "      <td>BPD</td>\n",
       "    </tr>\n",
       "    <tr>\n",
       "      <td>2</td>\n",
       "      <td>P25118</td>\n",
       "      <td>01/31/2017</td>\n",
       "      <td>NaN</td>\n",
       "      <td>SHOTGUN</td>\n",
       "      <td>NaN</td>\n",
       "      <td>Stolen Locally</td>\n",
       "      <td>Residence</td>\n",
       "      <td>Not Recovered</td>\n",
       "      <td>B17-02584</td>\n",
       "      <td>BPD</td>\n",
       "    </tr>\n",
       "  </tbody>\n",
       "</table>\n",
       "</div>"
      ],
      "text/plain": [
       "  Prop_num        Date   Brand           Model  Color          Stolen  \\\n",
       "0   P24567  01/12/2017     NaN  BOLT ACTION SH    NaN  Stolen Locally   \n",
       "1   P24806  01/22/2017  TAURUS             NaN  BLACK  Stolen Locally   \n",
       "2   P25118  01/31/2017     NaN         SHOTGUN    NaN  Stolen Locally   \n",
       "\n",
       "  Stolen_from            Status   Incident Agency_code  \n",
       "0   Residence     Not Recovered  B17-01302         BPD  \n",
       "1     Vehicle  Recovered Other   B17-02589         BPD  \n",
       "2   Residence     Not Recovered  B17-02584         BPD  "
      ]
     },
     "execution_count": 72,
     "metadata": {},
     "output_type": "execute_result"
    }
   ],
   "source": [
    "headers = ['Prop_num','Date','Brand','Model','Color','Stolen','Stolen_from','Status','Incident','Agency_code']\n",
    "Hdata1.columns = headers\n",
    "Hdata1.head(3)"
   ]
  },
  {
   "cell_type": "markdown",
   "metadata": {},
   "source": [
    "**METHOD 2**\n",
    "> by using ***names*** attribute in ***read*** method"
   ]
  },
  {
   "cell_type": "code",
   "execution_count": 75,
   "metadata": {},
   "outputs": [
    {
     "data": {
      "text/html": [
       "<div>\n",
       "<style scoped>\n",
       "    .dataframe tbody tr th:only-of-type {\n",
       "        vertical-align: middle;\n",
       "    }\n",
       "\n",
       "    .dataframe tbody tr th {\n",
       "        vertical-align: top;\n",
       "    }\n",
       "\n",
       "    .dataframe thead th {\n",
       "        text-align: right;\n",
       "    }\n",
       "</style>\n",
       "<table border=\"1\" class=\"dataframe\">\n",
       "  <thead>\n",
       "    <tr style=\"text-align: right;\">\n",
       "      <th></th>\n",
       "      <th>Prop_num</th>\n",
       "      <th>Date</th>\n",
       "      <th>Brand</th>\n",
       "      <th>Model</th>\n",
       "      <th>Color</th>\n",
       "      <th>Stolen</th>\n",
       "      <th>Stolen_from</th>\n",
       "      <th>Status</th>\n",
       "      <th>Incident</th>\n",
       "      <th>Agency_code</th>\n",
       "    </tr>\n",
       "  </thead>\n",
       "  <tbody>\n",
       "    <tr>\n",
       "      <td>0</td>\n",
       "      <td>P24567</td>\n",
       "      <td>01/12/2017</td>\n",
       "      <td>NaN</td>\n",
       "      <td>BOLT ACTION SH</td>\n",
       "      <td>NaN</td>\n",
       "      <td>Stolen Locally</td>\n",
       "      <td>Residence</td>\n",
       "      <td>Not Recovered</td>\n",
       "      <td>B17-01302</td>\n",
       "      <td>BPD</td>\n",
       "    </tr>\n",
       "    <tr>\n",
       "      <td>1</td>\n",
       "      <td>P24806</td>\n",
       "      <td>01/22/2017</td>\n",
       "      <td>TAURUS</td>\n",
       "      <td>NaN</td>\n",
       "      <td>BLACK</td>\n",
       "      <td>Stolen Locally</td>\n",
       "      <td>Vehicle</td>\n",
       "      <td>Recovered Other</td>\n",
       "      <td>B17-02589</td>\n",
       "      <td>BPD</td>\n",
       "    </tr>\n",
       "    <tr>\n",
       "      <td>2</td>\n",
       "      <td>P25118</td>\n",
       "      <td>01/31/2017</td>\n",
       "      <td>NaN</td>\n",
       "      <td>SHOTGUN</td>\n",
       "      <td>NaN</td>\n",
       "      <td>Stolen Locally</td>\n",
       "      <td>Residence</td>\n",
       "      <td>Not Recovered</td>\n",
       "      <td>B17-02584</td>\n",
       "      <td>BPD</td>\n",
       "    </tr>\n",
       "  </tbody>\n",
       "</table>\n",
       "</div>"
      ],
      "text/plain": [
       "  Prop_num        Date   Brand           Model  Color          Stolen  \\\n",
       "0   P24567  01/12/2017     NaN  BOLT ACTION SH    NaN  Stolen Locally   \n",
       "1   P24806  01/22/2017  TAURUS             NaN  BLACK  Stolen Locally   \n",
       "2   P25118  01/31/2017     NaN         SHOTGUN    NaN  Stolen Locally   \n",
       "\n",
       "  Stolen_from            Status   Incident Agency_code  \n",
       "0   Residence     Not Recovered  B17-01302         BPD  \n",
       "1     Vehicle  Recovered Other   B17-02589         BPD  \n",
       "2   Residence     Not Recovered  B17-02584         BPD  "
      ]
     },
     "execution_count": 75,
     "metadata": {},
     "output_type": "execute_result"
    }
   ],
   "source": [
    "Hdata2 = pd.read_csv(\"C:/Users/HP PAV 15 CC130TX/OneDrive/Desktop/stolengun/2017-first-quarter-stolen-guns.csv\",header = None, skiprows = 1,\n",
    "                    names = headers)\n",
    "Hdata2.head(3)"
   ]
  },
  {
   "cell_type": "markdown",
   "metadata": {},
   "source": [
    "### <font color='dark green'>Knowing about Data</font>"
   ]
  },
  {
   "cell_type": "code",
   "execution_count": 82,
   "metadata": {},
   "outputs": [
    {
     "data": {
      "text/plain": [
       "(15, 10)"
      ]
     },
     "execution_count": 82,
     "metadata": {},
     "output_type": "execute_result"
    }
   ],
   "source": [
    "data.shape \n",
    "\n",
    "#15 rows, 10 columns"
   ]
  },
  {
   "cell_type": "code",
   "execution_count": 84,
   "metadata": {},
   "outputs": [
    {
     "data": {
      "text/plain": [
       "Index(['Property Number', 'Date', 'Brand', 'Model', 'Color ', 'Stolen',\n",
       "       'Stolen From', 'Status', 'Incident number', 'Agency code'],\n",
       "      dtype='object')"
      ]
     },
     "execution_count": 84,
     "metadata": {},
     "output_type": "execute_result"
    }
   ],
   "source": [
    "data.columns "
   ]
  },
  {
   "cell_type": "code",
   "execution_count": 89,
   "metadata": {},
   "outputs": [
    {
     "data": {
      "text/html": [
       "<div>\n",
       "<style scoped>\n",
       "    .dataframe tbody tr th:only-of-type {\n",
       "        vertical-align: middle;\n",
       "    }\n",
       "\n",
       "    .dataframe tbody tr th {\n",
       "        vertical-align: top;\n",
       "    }\n",
       "\n",
       "    .dataframe thead th {\n",
       "        text-align: right;\n",
       "    }\n",
       "</style>\n",
       "<table border=\"1\" class=\"dataframe\">\n",
       "  <thead>\n",
       "    <tr style=\"text-align: right;\">\n",
       "      <th></th>\n",
       "      <th>Property Number</th>\n",
       "      <th>Date</th>\n",
       "      <th>Brand</th>\n",
       "      <th>Model</th>\n",
       "      <th>Color</th>\n",
       "      <th>Stolen</th>\n",
       "      <th>Stolen From</th>\n",
       "      <th>Status</th>\n",
       "      <th>Incident number</th>\n",
       "      <th>Agency code</th>\n",
       "    </tr>\n",
       "  </thead>\n",
       "  <tbody>\n",
       "    <tr>\n",
       "      <td>count</td>\n",
       "      <td>15</td>\n",
       "      <td>15</td>\n",
       "      <td>12</td>\n",
       "      <td>11</td>\n",
       "      <td>9</td>\n",
       "      <td>15</td>\n",
       "      <td>15</td>\n",
       "      <td>15</td>\n",
       "      <td>15</td>\n",
       "      <td>15</td>\n",
       "    </tr>\n",
       "    <tr>\n",
       "      <td>unique</td>\n",
       "      <td>15</td>\n",
       "      <td>10</td>\n",
       "      <td>11</td>\n",
       "      <td>11</td>\n",
       "      <td>1</td>\n",
       "      <td>1</td>\n",
       "      <td>3</td>\n",
       "      <td>3</td>\n",
       "      <td>10</td>\n",
       "      <td>1</td>\n",
       "    </tr>\n",
       "    <tr>\n",
       "      <td>top</td>\n",
       "      <td>P25119</td>\n",
       "      <td>03/29/2017</td>\n",
       "      <td>TAURUS</td>\n",
       "      <td>SR 9MM</td>\n",
       "      <td>BLACK</td>\n",
       "      <td>Stolen Locally</td>\n",
       "      <td>Residence</td>\n",
       "      <td>Not Recovered</td>\n",
       "      <td>B17-11696</td>\n",
       "      <td>BPD</td>\n",
       "    </tr>\n",
       "    <tr>\n",
       "      <td>freq</td>\n",
       "      <td>1</td>\n",
       "      <td>5</td>\n",
       "      <td>2</td>\n",
       "      <td>1</td>\n",
       "      <td>9</td>\n",
       "      <td>15</td>\n",
       "      <td>11</td>\n",
       "      <td>8</td>\n",
       "      <td>5</td>\n",
       "      <td>15</td>\n",
       "    </tr>\n",
       "  </tbody>\n",
       "</table>\n",
       "</div>"
      ],
      "text/plain": [
       "       Property Number        Date   Brand   Model Color           Stolen  \\\n",
       "count               15          15      12      11      9              15   \n",
       "unique              15          10      11      11      1               1   \n",
       "top             P25119  03/29/2017  TAURUS  SR 9MM  BLACK  Stolen Locally   \n",
       "freq                 1           5       2       1      9              15   \n",
       "\n",
       "       Stolen From         Status Incident number Agency code  \n",
       "count           15             15              15          15  \n",
       "unique           3              3              10           1  \n",
       "top      Residence  Not Recovered       B17-11696         BPD  \n",
       "freq            11              8               5          15  "
      ]
     },
     "execution_count": 89,
     "metadata": {},
     "output_type": "execute_result"
    }
   ],
   "source": [
    "data.describe()\n",
    "\n",
    "#when data is numeric other discriptive statistics like mean,median,quartiles, etc will also be calculated "
   ]
  },
  {
   "cell_type": "code",
   "execution_count": 91,
   "metadata": {},
   "outputs": [
    {
     "data": {
      "text/plain": [
       "Property Number    object\n",
       "Date               object\n",
       "Brand              object\n",
       "Model              object\n",
       "Color              object\n",
       "Stolen             object\n",
       "Stolen From        object\n",
       "Status             object\n",
       "Incident number    object\n",
       "Agency code        object\n",
       "dtype: object"
      ]
     },
     "execution_count": 91,
     "metadata": {},
     "output_type": "execute_result"
    }
   ],
   "source": [
    " data.dtypes"
   ]
  },
  {
   "cell_type": "code",
   "execution_count": 10,
   "metadata": {},
   "outputs": [
    {
     "name": "stdout",
     "output_type": "stream",
     "text": [
      "<class 'pandas.core.frame.DataFrame'>\n",
      "RangeIndex: 15 entries, 0 to 14\n",
      "Data columns (total 10 columns):\n",
      "Property Number    15 non-null object\n",
      "Date               15 non-null object\n",
      "Brand              12 non-null object\n",
      "Model              11 non-null object\n",
      "Color              9 non-null object\n",
      "Stolen             15 non-null object\n",
      "Stolen From        15 non-null object\n",
      "Status             15 non-null object\n",
      "Incident number    15 non-null object\n",
      "Agency code        15 non-null object\n",
      "dtypes: object(10)\n",
      "memory usage: 1.3+ KB\n"
     ]
    }
   ],
   "source": [
    "data.info()"
   ]
  },
  {
   "cell_type": "markdown",
   "metadata": {},
   "source": [
    "### <font color='dark green'>Knowing about Null values</font>"
   ]
  },
  {
   "cell_type": "markdown",
   "metadata": {},
   "source": [
    "**METHOD 1**"
   ]
  },
  {
   "cell_type": "code",
   "execution_count": 92,
   "metadata": {
    "scrolled": true
   },
   "outputs": [
    {
     "data": {
      "text/html": [
       "<div>\n",
       "<style scoped>\n",
       "    .dataframe tbody tr th:only-of-type {\n",
       "        vertical-align: middle;\n",
       "    }\n",
       "\n",
       "    .dataframe tbody tr th {\n",
       "        vertical-align: top;\n",
       "    }\n",
       "\n",
       "    .dataframe thead th {\n",
       "        text-align: right;\n",
       "    }\n",
       "</style>\n",
       "<table border=\"1\" class=\"dataframe\">\n",
       "  <thead>\n",
       "    <tr style=\"text-align: right;\">\n",
       "      <th></th>\n",
       "      <th>Property Number</th>\n",
       "      <th>Date</th>\n",
       "      <th>Brand</th>\n",
       "      <th>Model</th>\n",
       "      <th>Color</th>\n",
       "      <th>Stolen</th>\n",
       "      <th>Stolen From</th>\n",
       "      <th>Status</th>\n",
       "      <th>Incident number</th>\n",
       "      <th>Agency code</th>\n",
       "    </tr>\n",
       "  </thead>\n",
       "  <tbody>\n",
       "    <tr>\n",
       "      <td>0</td>\n",
       "      <td>False</td>\n",
       "      <td>False</td>\n",
       "      <td>True</td>\n",
       "      <td>False</td>\n",
       "      <td>True</td>\n",
       "      <td>False</td>\n",
       "      <td>False</td>\n",
       "      <td>False</td>\n",
       "      <td>False</td>\n",
       "      <td>False</td>\n",
       "    </tr>\n",
       "    <tr>\n",
       "      <td>1</td>\n",
       "      <td>False</td>\n",
       "      <td>False</td>\n",
       "      <td>False</td>\n",
       "      <td>True</td>\n",
       "      <td>False</td>\n",
       "      <td>False</td>\n",
       "      <td>False</td>\n",
       "      <td>False</td>\n",
       "      <td>False</td>\n",
       "      <td>False</td>\n",
       "    </tr>\n",
       "    <tr>\n",
       "      <td>2</td>\n",
       "      <td>False</td>\n",
       "      <td>False</td>\n",
       "      <td>True</td>\n",
       "      <td>False</td>\n",
       "      <td>True</td>\n",
       "      <td>False</td>\n",
       "      <td>False</td>\n",
       "      <td>False</td>\n",
       "      <td>False</td>\n",
       "      <td>False</td>\n",
       "    </tr>\n",
       "    <tr>\n",
       "      <td>3</td>\n",
       "      <td>False</td>\n",
       "      <td>False</td>\n",
       "      <td>True</td>\n",
       "      <td>False</td>\n",
       "      <td>True</td>\n",
       "      <td>False</td>\n",
       "      <td>False</td>\n",
       "      <td>False</td>\n",
       "      <td>False</td>\n",
       "      <td>False</td>\n",
       "    </tr>\n",
       "    <tr>\n",
       "      <td>4</td>\n",
       "      <td>False</td>\n",
       "      <td>False</td>\n",
       "      <td>False</td>\n",
       "      <td>False</td>\n",
       "      <td>False</td>\n",
       "      <td>False</td>\n",
       "      <td>False</td>\n",
       "      <td>False</td>\n",
       "      <td>False</td>\n",
       "      <td>False</td>\n",
       "    </tr>\n",
       "    <tr>\n",
       "      <td>5</td>\n",
       "      <td>False</td>\n",
       "      <td>False</td>\n",
       "      <td>False</td>\n",
       "      <td>False</td>\n",
       "      <td>True</td>\n",
       "      <td>False</td>\n",
       "      <td>False</td>\n",
       "      <td>False</td>\n",
       "      <td>False</td>\n",
       "      <td>False</td>\n",
       "    </tr>\n",
       "    <tr>\n",
       "      <td>6</td>\n",
       "      <td>False</td>\n",
       "      <td>False</td>\n",
       "      <td>False</td>\n",
       "      <td>False</td>\n",
       "      <td>False</td>\n",
       "      <td>False</td>\n",
       "      <td>False</td>\n",
       "      <td>False</td>\n",
       "      <td>False</td>\n",
       "      <td>False</td>\n",
       "    </tr>\n",
       "    <tr>\n",
       "      <td>7</td>\n",
       "      <td>False</td>\n",
       "      <td>False</td>\n",
       "      <td>False</td>\n",
       "      <td>True</td>\n",
       "      <td>True</td>\n",
       "      <td>False</td>\n",
       "      <td>False</td>\n",
       "      <td>False</td>\n",
       "      <td>False</td>\n",
       "      <td>False</td>\n",
       "    </tr>\n",
       "    <tr>\n",
       "      <td>8</td>\n",
       "      <td>False</td>\n",
       "      <td>False</td>\n",
       "      <td>False</td>\n",
       "      <td>False</td>\n",
       "      <td>False</td>\n",
       "      <td>False</td>\n",
       "      <td>False</td>\n",
       "      <td>False</td>\n",
       "      <td>False</td>\n",
       "      <td>False</td>\n",
       "    </tr>\n",
       "    <tr>\n",
       "      <td>9</td>\n",
       "      <td>False</td>\n",
       "      <td>False</td>\n",
       "      <td>False</td>\n",
       "      <td>False</td>\n",
       "      <td>False</td>\n",
       "      <td>False</td>\n",
       "      <td>False</td>\n",
       "      <td>False</td>\n",
       "      <td>False</td>\n",
       "      <td>False</td>\n",
       "    </tr>\n",
       "    <tr>\n",
       "      <td>10</td>\n",
       "      <td>False</td>\n",
       "      <td>False</td>\n",
       "      <td>False</td>\n",
       "      <td>True</td>\n",
       "      <td>False</td>\n",
       "      <td>False</td>\n",
       "      <td>False</td>\n",
       "      <td>False</td>\n",
       "      <td>False</td>\n",
       "      <td>False</td>\n",
       "    </tr>\n",
       "    <tr>\n",
       "      <td>11</td>\n",
       "      <td>False</td>\n",
       "      <td>False</td>\n",
       "      <td>False</td>\n",
       "      <td>True</td>\n",
       "      <td>False</td>\n",
       "      <td>False</td>\n",
       "      <td>False</td>\n",
       "      <td>False</td>\n",
       "      <td>False</td>\n",
       "      <td>False</td>\n",
       "    </tr>\n",
       "    <tr>\n",
       "      <td>12</td>\n",
       "      <td>False</td>\n",
       "      <td>False</td>\n",
       "      <td>False</td>\n",
       "      <td>False</td>\n",
       "      <td>False</td>\n",
       "      <td>False</td>\n",
       "      <td>False</td>\n",
       "      <td>False</td>\n",
       "      <td>False</td>\n",
       "      <td>False</td>\n",
       "    </tr>\n",
       "    <tr>\n",
       "      <td>13</td>\n",
       "      <td>False</td>\n",
       "      <td>False</td>\n",
       "      <td>False</td>\n",
       "      <td>False</td>\n",
       "      <td>False</td>\n",
       "      <td>False</td>\n",
       "      <td>False</td>\n",
       "      <td>False</td>\n",
       "      <td>False</td>\n",
       "      <td>False</td>\n",
       "    </tr>\n",
       "    <tr>\n",
       "      <td>14</td>\n",
       "      <td>False</td>\n",
       "      <td>False</td>\n",
       "      <td>False</td>\n",
       "      <td>False</td>\n",
       "      <td>True</td>\n",
       "      <td>False</td>\n",
       "      <td>False</td>\n",
       "      <td>False</td>\n",
       "      <td>False</td>\n",
       "      <td>False</td>\n",
       "    </tr>\n",
       "  </tbody>\n",
       "</table>\n",
       "</div>"
      ],
      "text/plain": [
       "    Property Number   Date  Brand  Model  Color   Stolen  Stolen From  Status  \\\n",
       "0             False  False   True  False    True   False        False   False   \n",
       "1             False  False  False   True   False   False        False   False   \n",
       "2             False  False   True  False    True   False        False   False   \n",
       "3             False  False   True  False    True   False        False   False   \n",
       "4             False  False  False  False   False   False        False   False   \n",
       "5             False  False  False  False    True   False        False   False   \n",
       "6             False  False  False  False   False   False        False   False   \n",
       "7             False  False  False   True    True   False        False   False   \n",
       "8             False  False  False  False   False   False        False   False   \n",
       "9             False  False  False  False   False   False        False   False   \n",
       "10            False  False  False   True   False   False        False   False   \n",
       "11            False  False  False   True   False   False        False   False   \n",
       "12            False  False  False  False   False   False        False   False   \n",
       "13            False  False  False  False   False   False        False   False   \n",
       "14            False  False  False  False    True   False        False   False   \n",
       "\n",
       "    Incident number  Agency code  \n",
       "0             False        False  \n",
       "1             False        False  \n",
       "2             False        False  \n",
       "3             False        False  \n",
       "4             False        False  \n",
       "5             False        False  \n",
       "6             False        False  \n",
       "7             False        False  \n",
       "8             False        False  \n",
       "9             False        False  \n",
       "10            False        False  \n",
       "11            False        False  \n",
       "12            False        False  \n",
       "13            False        False  \n",
       "14            False        False  "
      ]
     },
     "execution_count": 92,
     "metadata": {},
     "output_type": "execute_result"
    }
   ],
   "source": [
    "#to know entries of missing values in a dataframe\n",
    "\n",
    "pd.isnull(data) \n",
    "\n",
    "#results true if null, false if not null"
   ]
  },
  {
   "cell_type": "markdown",
   "metadata": {},
   "source": [
    "**METHOD 2**"
   ]
  },
  {
   "cell_type": "code",
   "execution_count": 93,
   "metadata": {},
   "outputs": [
    {
     "data": {
      "text/plain": [
       "0      True\n",
       "1     False\n",
       "2      True\n",
       "3      True\n",
       "4     False\n",
       "5     False\n",
       "6     False\n",
       "7     False\n",
       "8     False\n",
       "9     False\n",
       "10    False\n",
       "11    False\n",
       "12    False\n",
       "13    False\n",
       "14    False\n",
       "Name: Brand, dtype: bool"
      ]
     },
     "execution_count": 93,
     "metadata": {},
     "output_type": "execute_result"
    }
   ],
   "source": [
    "#to know entries of missing values of a cloumn in a dataframe\n",
    "\n",
    "pd.isnull(data['Brand']) "
   ]
  },
  {
   "cell_type": "markdown",
   "metadata": {},
   "source": [
    "**METHOD 3**\n",
    "> using ***notnull()***"
   ]
  },
  {
   "cell_type": "code",
   "execution_count": 94,
   "metadata": {},
   "outputs": [
    {
     "data": {
      "text/plain": [
       "0     False\n",
       "1      True\n",
       "2     False\n",
       "3     False\n",
       "4      True\n",
       "5      True\n",
       "6      True\n",
       "7      True\n",
       "8      True\n",
       "9      True\n",
       "10     True\n",
       "11     True\n",
       "12     True\n",
       "13     True\n",
       "14     True\n",
       "Name: Brand, dtype: bool"
      ]
     },
     "execution_count": 94,
     "metadata": {},
     "output_type": "execute_result"
    }
   ],
   "source": [
    "pd.notnull(data['Brand']) \n",
    "\n",
    "#results true if not null, false if null"
   ]
  },
  {
   "cell_type": "markdown",
   "metadata": {},
   "source": [
    "**METHOD 4**"
   ]
  },
  {
   "cell_type": "code",
   "execution_count": 6,
   "metadata": {},
   "outputs": [
    {
     "data": {
      "text/plain": [
       "4"
      ]
     },
     "execution_count": 6,
     "metadata": {},
     "output_type": "execute_result"
    }
   ],
   "source": [
    "pd.isnull(data['Model']).sum()\n",
    "\n",
    "#number of null values from Model column"
   ]
  },
  {
   "cell_type": "markdown",
   "metadata": {},
   "source": [
    "**METHOD 5**"
   ]
  },
  {
   "cell_type": "code",
   "execution_count": 5,
   "metadata": {},
   "outputs": [
    {
     "data": {
      "text/plain": [
       "11"
      ]
     },
     "execution_count": 5,
     "metadata": {},
     "output_type": "execute_result"
    }
   ],
   "source": [
    "pd.notnull(data['Model']).sum()\n",
    "\n",
    "#number of not null values from Model column"
   ]
  },
  {
   "cell_type": "markdown",
   "metadata": {},
   "source": [
    "### <font color='dark green'> Fixing null/missing values</font>\n",
    "**METHOD 1 - Imputation**"
   ]
  },
  {
   "cell_type": "code",
   "execution_count": 106,
   "metadata": {},
   "outputs": [
    {
     "data": {
      "text/plain": [
       "0              missing\n",
       "1               TAURUS\n",
       "2              missing\n",
       "3              missing\n",
       "4          SPRINGFIELD\n",
       "5         WALTHER PPKS\n",
       "6                RUGER\n",
       "7       SMITH & WESSON\n",
       "8             GLOCK 19\n",
       "9               TAURUS\n",
       "10             SCAR 17\n",
       "11               AU 47\n",
       "12               GLOCK\n",
       "13           REMINGTON\n",
       "14    AERIAL PRECISION\n",
       "Name: Brand, dtype: object"
      ]
     },
     "execution_count": 106,
     "metadata": {},
     "output_type": "execute_result"
    }
   ],
   "source": [
    "data['Brand'].fillna('missing')"
   ]
  },
  {
   "cell_type": "markdown",
   "metadata": {},
   "source": [
    "A common imputation is with the mean or median value of that column.Since all the values are categorical it is done this way.<br/>\n",
    "**Note** : Below codes is just done for showing other possible attributes of ***fillna*** method"
   ]
  },
  {
   "cell_type": "code",
   "execution_count": 108,
   "metadata": {},
   "outputs": [
    {
     "data": {
      "text/plain": [
       "0     BOLT ACTION SH\n",
       "1     BOLT ACTION SH\n",
       "2            SHOTGUN\n",
       "3              RIFLE\n",
       "4          XDMWOE192\n",
       "5               .380\n",
       "6             SR 9MM\n",
       "7             SR 9MM\n",
       "8              GEN 4\n",
       "9              PQ111\n",
       "10             PQ111\n",
       "11             PQ111\n",
       "12                19\n",
       "13          SHOT GUN\n",
       "14             AR 15\n",
       "Name: Model, dtype: object"
      ]
     },
     "execution_count": 108,
     "metadata": {},
     "output_type": "execute_result"
    }
   ],
   "source": [
    "data['Model'].fillna(method = 'ffill')\n",
    "\n",
    "#ffill replaces the missing values with the nearest preceding non-missing value"
   ]
  },
  {
   "cell_type": "code",
   "execution_count": 109,
   "metadata": {},
   "outputs": [
    {
     "data": {
      "text/plain": [
       "0     BOLT ACTION SH\n",
       "1            SHOTGUN\n",
       "2            SHOTGUN\n",
       "3              RIFLE\n",
       "4          XDMWOE192\n",
       "5               .380\n",
       "6             SR 9MM\n",
       "7              GEN 4\n",
       "8              GEN 4\n",
       "9              PQ111\n",
       "10                19\n",
       "11                19\n",
       "12                19\n",
       "13          SHOT GUN\n",
       "14             AR 15\n",
       "Name: Model, dtype: object"
      ]
     },
     "execution_count": 109,
     "metadata": {},
     "output_type": "execute_result"
    }
   ],
   "source": [
    "#backfill replaces the missing value with the nearest succeeding non-missing value\n",
    "\n",
    "data['Model'].fillna(method = 'backfill')"
   ]
  },
  {
   "cell_type": "markdown",
   "metadata": {},
   "source": [
    "**METHOD 2 - Deletion**"
   ]
  },
  {
   "cell_type": "code",
   "execution_count": 111,
   "metadata": {},
   "outputs": [
    {
     "data": {
      "text/html": [
       "<div>\n",
       "<style scoped>\n",
       "    .dataframe tbody tr th:only-of-type {\n",
       "        vertical-align: middle;\n",
       "    }\n",
       "\n",
       "    .dataframe tbody tr th {\n",
       "        vertical-align: top;\n",
       "    }\n",
       "\n",
       "    .dataframe thead th {\n",
       "        text-align: right;\n",
       "    }\n",
       "</style>\n",
       "<table border=\"1\" class=\"dataframe\">\n",
       "  <thead>\n",
       "    <tr style=\"text-align: right;\">\n",
       "      <th></th>\n",
       "      <th>Property Number</th>\n",
       "      <th>Date</th>\n",
       "      <th>Brand</th>\n",
       "      <th>Model</th>\n",
       "      <th>Color</th>\n",
       "      <th>Stolen</th>\n",
       "      <th>Stolen From</th>\n",
       "      <th>Status</th>\n",
       "      <th>Incident number</th>\n",
       "      <th>Agency code</th>\n",
       "    </tr>\n",
       "  </thead>\n",
       "  <tbody>\n",
       "    <tr>\n",
       "      <td>4</td>\n",
       "      <td>P25236</td>\n",
       "      <td>02/05/2017</td>\n",
       "      <td>SPRINGFIELD</td>\n",
       "      <td>XDMWOE192</td>\n",
       "      <td>BLACK</td>\n",
       "      <td>Stolen Locally</td>\n",
       "      <td>Vehicle</td>\n",
       "      <td>Not Recovered</td>\n",
       "      <td>B17-04349</td>\n",
       "      <td>BPD</td>\n",
       "    </tr>\n",
       "    <tr>\n",
       "      <td>6</td>\n",
       "      <td>P25797</td>\n",
       "      <td>03/02/2017</td>\n",
       "      <td>RUGER</td>\n",
       "      <td>SR 9MM</td>\n",
       "      <td>BLACK</td>\n",
       "      <td>Stolen Locally</td>\n",
       "      <td>Vehicle</td>\n",
       "      <td>Not Recovered</td>\n",
       "      <td>B17-07756</td>\n",
       "      <td>BPD</td>\n",
       "    </tr>\n",
       "    <tr>\n",
       "      <td>8</td>\n",
       "      <td>P25955</td>\n",
       "      <td>03/13/2017</td>\n",
       "      <td>GLOCK 19</td>\n",
       "      <td>GEN 4</td>\n",
       "      <td>BLACK</td>\n",
       "      <td>Stolen Locally</td>\n",
       "      <td>Residence</td>\n",
       "      <td>Not Recovered</td>\n",
       "      <td>B17-09333</td>\n",
       "      <td>BPD</td>\n",
       "    </tr>\n",
       "    <tr>\n",
       "      <td>9</td>\n",
       "      <td>P26122</td>\n",
       "      <td>03/21/2017</td>\n",
       "      <td>TAURUS</td>\n",
       "      <td>PQ111</td>\n",
       "      <td>BLACK</td>\n",
       "      <td>Stolen Locally</td>\n",
       "      <td>Residence</td>\n",
       "      <td>Recovered Locally</td>\n",
       "      <td>B17-10518</td>\n",
       "      <td>BPD</td>\n",
       "    </tr>\n",
       "    <tr>\n",
       "      <td>12</td>\n",
       "      <td>P26320</td>\n",
       "      <td>03/29/2017</td>\n",
       "      <td>GLOCK</td>\n",
       "      <td>19</td>\n",
       "      <td>BLACK</td>\n",
       "      <td>Stolen Locally</td>\n",
       "      <td>Residence</td>\n",
       "      <td>Recovered Other</td>\n",
       "      <td>B17-11696</td>\n",
       "      <td>BPD</td>\n",
       "    </tr>\n",
       "    <tr>\n",
       "      <td>13</td>\n",
       "      <td>P26322</td>\n",
       "      <td>03/29/2017</td>\n",
       "      <td>REMINGTON</td>\n",
       "      <td>SHOT GUN</td>\n",
       "      <td>BLACK</td>\n",
       "      <td>Stolen Locally</td>\n",
       "      <td>Residence</td>\n",
       "      <td>Recovered Other</td>\n",
       "      <td>B17-11696</td>\n",
       "      <td>BPD</td>\n",
       "    </tr>\n",
       "  </tbody>\n",
       "</table>\n",
       "</div>"
      ],
      "text/plain": [
       "   Property Number        Date        Brand      Model Color           Stolen  \\\n",
       "4           P25236  02/05/2017  SPRINGFIELD  XDMWOE192  BLACK  Stolen Locally   \n",
       "6           P25797  03/02/2017        RUGER     SR 9MM  BLACK  Stolen Locally   \n",
       "8           P25955  03/13/2017     GLOCK 19      GEN 4  BLACK  Stolen Locally   \n",
       "9           P26122  03/21/2017       TAURUS      PQ111  BLACK  Stolen Locally   \n",
       "12          P26320  03/29/2017        GLOCK         19  BLACK  Stolen Locally   \n",
       "13          P26322  03/29/2017    REMINGTON   SHOT GUN  BLACK  Stolen Locally   \n",
       "\n",
       "   Stolen From             Status Incident number Agency code  \n",
       "4      Vehicle      Not Recovered       B17-04349         BPD  \n",
       "6      Vehicle      Not Recovered       B17-07756         BPD  \n",
       "8    Residence      Not Recovered       B17-09333         BPD  \n",
       "9    Residence  Recovered Locally       B17-10518         BPD  \n",
       "12   Residence   Recovered Other        B17-11696         BPD  \n",
       "13   Residence   Recovered Other        B17-11696         BPD  "
      ]
     },
     "execution_count": 111,
     "metadata": {},
     "output_type": "execute_result"
    }
   ],
   "source": [
    "data.dropna(axis = 0, how = 'any')\n",
    "\n",
    "#delets all rows that contain null values"
   ]
  },
  {
   "cell_type": "code",
   "execution_count": null,
   "metadata": {},
   "outputs": [],
   "source": []
  }
 ],
 "metadata": {
  "kernelspec": {
   "display_name": "Python 3",
   "language": "python",
   "name": "python3"
  },
  "language_info": {
   "codemirror_mode": {
    "name": "ipython",
    "version": 3
   },
   "file_extension": ".py",
   "mimetype": "text/x-python",
   "name": "python",
   "nbconvert_exporter": "python",
   "pygments_lexer": "ipython3",
   "version": "3.7.4"
  }
 },
 "nbformat": 4,
 "nbformat_minor": 2
}
